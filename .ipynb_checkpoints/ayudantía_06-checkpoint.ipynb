{
 "cells": [
  {
   "cell_type": "markdown",
   "metadata": {},
   "source": [
    "Ayudantía Estadística I - Primavera 2020 <img src=\"img/logo_ua.png\" width=\"20%\" align=\"right\" />\n",
    "<br />\n",
    "<br />\n",
    "<br />\n",
    "<br />\n",
    "<br />\n",
    "\n",
    "# Análisis de regresión"
   ]
  },
  {
   "cell_type": "markdown",
   "metadata": {},
   "source": [
    "> “El análisis de regresión trata del estudio de la dependencia de una variable (variable dependiente) respecto de una o más variables (variables explicativas o independientes) con el objetivo de estimar o predecir la media o valor promedio poblacional de la primera en términos de los valores conocidos o fijos [...] de las segundas” (Gujarati, 2010).\n",
    "\n",
    "La regresión, como técnica, se usa para ajustar de la mejor manera una línea a una nube de puntos y estimar una variable (dependiente) sobre la base de otra variable (independiente). En decir, **la regresión es el estudio sobre cómo ajustar mejor una curva con el objetivo de explicar una variable dependiente (o endógena, explicada, etc.) que se designa como $Y$, usando la información que nos entrega los valores de un conjunto de variables independientes (exógenas, independientes, explicativas)**. En el análisis de regresión, tratamos de comprender los puntos de datos descubriendo la curva que podría haberlos generado. Al hacerlo, buscamos una explicación de por qué los datos dados están dispersos de la manera en que están. La curva de mejor ajuste nos da un modelo para explicar cómo se podría haber producido el conjunto de datos.\n",
    "\n",
    "***Nota***: Este tema lo estudiarás a fondo en el curso de Econometría, por lo que es importante que puedas entenderlo.\n",
    "\n",
    "Veamos todo esto a través de un ejemplo. Trabajaremos con el mismo *data set* de la ayudantía 05: ***mpg***. Vamos a realizar un análisis de regresión entre dos variables que estén correlacionadas entre sí. Vamos a detecar esto a través de observar su respecto gráfico de dispersión y cacular su coeficiente de correlación."
   ]
  },
  {
   "cell_type": "code",
   "execution_count": 67,
   "metadata": {
    "scrolled": true
   },
   "outputs": [
    {
     "data": {
      "text/html": [
       "<table>\n",
       "<thead><tr><th scope=col>X</th><th scope=col>mpg</th><th scope=col>nro_cilindros</th><th scope=col>desplazamiento</th><th scope=col>caballos_fuerza</th><th scope=col>masa</th><th scope=col>aceleracion</th><th scope=col>ano_modelo</th><th scope=col>origen</th><th scope=col>nombre</th></tr></thead>\n",
       "<tbody>\n",
       "\t<tr><td>0                        </td><td>18                       </td><td>8                        </td><td>307                      </td><td>130                      </td><td>3504                     </td><td>12.0                     </td><td>70                       </td><td>usa                      </td><td>chevrolet chevelle malibu</td></tr>\n",
       "\t<tr><td>1                        </td><td>15                       </td><td>8                        </td><td>350                      </td><td>165                      </td><td>3693                     </td><td>11.5                     </td><td>70                       </td><td>usa                      </td><td>buick skylark 320        </td></tr>\n",
       "\t<tr><td>2                        </td><td>18                       </td><td>8                        </td><td>318                      </td><td>150                      </td><td>3436                     </td><td>11.0                     </td><td>70                       </td><td>usa                      </td><td>plymouth satellite       </td></tr>\n",
       "\t<tr><td>3                        </td><td>16                       </td><td>8                        </td><td>304                      </td><td>150                      </td><td>3433                     </td><td>12.0                     </td><td>70                       </td><td>usa                      </td><td>amc rebel sst            </td></tr>\n",
       "\t<tr><td>4                        </td><td>17                       </td><td>8                        </td><td>302                      </td><td>140                      </td><td>3449                     </td><td>10.5                     </td><td>70                       </td><td>usa                      </td><td>ford torino              </td></tr>\n",
       "\t<tr><td>5                        </td><td>15                       </td><td>8                        </td><td>429                      </td><td>198                      </td><td>4341                     </td><td>10.0                     </td><td>70                       </td><td>usa                      </td><td>ford galaxie 500         </td></tr>\n",
       "</tbody>\n",
       "</table>\n"
      ],
      "text/latex": [
       "\\begin{tabular}{r|llllllllll}\n",
       " X & mpg & nro\\_cilindros & desplazamiento & caballos\\_fuerza & masa & aceleracion & ano\\_modelo & origen & nombre\\\\\n",
       "\\hline\n",
       "\t 0                         & 18                        & 8                         & 307                       & 130                       & 3504                      & 12.0                      & 70                        & usa                       & chevrolet chevelle malibu\\\\\n",
       "\t 1                         & 15                        & 8                         & 350                       & 165                       & 3693                      & 11.5                      & 70                        & usa                       & buick skylark 320        \\\\\n",
       "\t 2                         & 18                        & 8                         & 318                       & 150                       & 3436                      & 11.0                      & 70                        & usa                       & plymouth satellite       \\\\\n",
       "\t 3                         & 16                        & 8                         & 304                       & 150                       & 3433                      & 12.0                      & 70                        & usa                       & amc rebel sst            \\\\\n",
       "\t 4                         & 17                        & 8                         & 302                       & 140                       & 3449                      & 10.5                      & 70                        & usa                       & ford torino              \\\\\n",
       "\t 5                         & 15                        & 8                         & 429                       & 198                       & 4341                      & 10.0                      & 70                        & usa                       & ford galaxie 500         \\\\\n",
       "\\end{tabular}\n"
      ],
      "text/markdown": [
       "\n",
       "| X | mpg | nro_cilindros | desplazamiento | caballos_fuerza | masa | aceleracion | ano_modelo | origen | nombre |\n",
       "|---|---|---|---|---|---|---|---|---|---|\n",
       "| 0                         | 18                        | 8                         | 307                       | 130                       | 3504                      | 12.0                      | 70                        | usa                       | chevrolet chevelle malibu |\n",
       "| 1                         | 15                        | 8                         | 350                       | 165                       | 3693                      | 11.5                      | 70                        | usa                       | buick skylark 320         |\n",
       "| 2                         | 18                        | 8                         | 318                       | 150                       | 3436                      | 11.0                      | 70                        | usa                       | plymouth satellite        |\n",
       "| 3                         | 16                        | 8                         | 304                       | 150                       | 3433                      | 12.0                      | 70                        | usa                       | amc rebel sst             |\n",
       "| 4                         | 17                        | 8                         | 302                       | 140                       | 3449                      | 10.5                      | 70                        | usa                       | ford torino               |\n",
       "| 5                         | 15                        | 8                         | 429                       | 198                       | 4341                      | 10.0                      | 70                        | usa                       | ford galaxie 500          |\n",
       "\n"
      ],
      "text/plain": [
       "  X mpg nro_cilindros desplazamiento caballos_fuerza masa aceleracion\n",
       "1 0 18  8             307            130             3504 12.0       \n",
       "2 1 15  8             350            165             3693 11.5       \n",
       "3 2 18  8             318            150             3436 11.0       \n",
       "4 3 16  8             304            150             3433 12.0       \n",
       "5 4 17  8             302            140             3449 10.5       \n",
       "6 5 15  8             429            198             4341 10.0       \n",
       "  ano_modelo origen nombre                   \n",
       "1 70         usa    chevrolet chevelle malibu\n",
       "2 70         usa    buick skylark 320        \n",
       "3 70         usa    plymouth satellite       \n",
       "4 70         usa    amc rebel sst            \n",
       "5 70         usa    ford torino              \n",
       "6 70         usa    ford galaxie 500         "
      ]
     },
     "metadata": {},
     "output_type": "display_data"
    }
   ],
   "source": [
    "# importamos los datos\n",
    "df_mpg <- read.csv(\"datos/mpg.csv\", header = TRUE, dec = \".\")\n",
    "# Veamos las primeras 6 filas del data set\n",
    "head(df_mpg)"
   ]
  },
  {
   "cell_type": "code",
   "execution_count": 69,
   "metadata": {},
   "outputs": [
    {
     "data": {
      "text/html": [
       "<ol class=list-inline>\n",
       "\t<li>398</li>\n",
       "\t<li>10</li>\n",
       "</ol>\n"
      ],
      "text/latex": [
       "\\begin{enumerate*}\n",
       "\\item 398\n",
       "\\item 10\n",
       "\\end{enumerate*}\n"
      ],
      "text/markdown": [
       "1. 398\n",
       "2. 10\n",
       "\n",
       "\n"
      ],
      "text/plain": [
       "[1] 398  10"
      ]
     },
     "metadata": {},
     "output_type": "display_data"
    }
   ],
   "source": [
    "# La función dim nos devuelve las \"dimensiones\" del data frame.\n",
    "# En este caso, 398 filas y 10 columnas\n",
    "dim(df_mpg)"
   ]
  },
  {
   "cell_type": "markdown",
   "metadata": {},
   "source": [
    "Antes de seguir, eliminaremos las filas en las cuales al menos uno de sus valores sea un valor ausentes. Es decir, suprimiremos las filas en las que cualquiera de las variables tenga un valor igual a ```NA```."
   ]
  },
  {
   "cell_type": "code",
   "execution_count": 70,
   "metadata": {},
   "outputs": [
    {
     "data": {
      "text/html": [
       "<ol class=list-inline>\n",
       "\t<li>392</li>\n",
       "\t<li>10</li>\n",
       "</ol>\n"
      ],
      "text/latex": [
       "\\begin{enumerate*}\n",
       "\\item 392\n",
       "\\item 10\n",
       "\\end{enumerate*}\n"
      ],
      "text/markdown": [
       "1. 392\n",
       "2. 10\n",
       "\n",
       "\n"
      ],
      "text/plain": [
       "[1] 392  10"
      ]
     },
     "metadata": {},
     "output_type": "display_data"
    }
   ],
   "source": [
    "df_mpg <- na.omit(df_mpg)\n",
    "\n",
    "# Luego de eliminar los valores NA, revisamos de nuevo las dimensiones del data frame\n",
    "dim(df_mpg)"
   ]
  },
  {
   "cell_type": "code",
   "execution_count": 51,
   "metadata": {},
   "outputs": [
    {
     "data": {
      "image/png": "[encoded data removed]",
      "text/plain": [
       "plot without title"
      ]
     },
     "metadata": {},
     "output_type": "display_data"
    }
   ],
   "source": [
    "# Trazaremos los gráficos de dispersión para cada par de variables (columnas)\n",
    "# Sólo tomaremos en cuenta desde la segunda a la octava columna\n",
    "pairs(df_mpg[, 2:8])"
   ]
  },
  {
   "cell_type": "markdown",
   "metadata": {},
   "source": [
    "Ahora veamos los coeficientes de correlación para cada par de variables:"
   ]
  },
  {
   "cell_type": "code",
   "execution_count": 52,
   "metadata": {},
   "outputs": [
    {
     "data": {
      "text/html": [
       "<table>\n",
       "<thead><tr><th></th><th scope=col>mpg</th><th scope=col>nro_cilindros</th><th scope=col>desplazamiento</th><th scope=col>caballos_fuerza</th><th scope=col>masa</th><th scope=col>aceleracion</th><th scope=col>ano_modelo</th></tr></thead>\n",
       "<tbody>\n",
       "\t<tr><th scope=row>mpg</th><td> 1.0000000</td><td>-0.7776175</td><td>-0.8051269</td><td>-0.7784268</td><td>-0.8322442</td><td> 0.4233285</td><td> 0.5805410</td></tr>\n",
       "\t<tr><th scope=row>nro_cilindros</th><td>-0.7776175</td><td> 1.0000000</td><td> 0.9508233</td><td> 0.8429834</td><td> 0.8975273</td><td>-0.5046834</td><td>-0.3456474</td></tr>\n",
       "\t<tr><th scope=row>desplazamiento</th><td>-0.8051269</td><td> 0.9508233</td><td> 1.0000000</td><td> 0.8972570</td><td> 0.9329944</td><td>-0.5438005</td><td>-0.3698552</td></tr>\n",
       "\t<tr><th scope=row>caballos_fuerza</th><td>-0.7784268</td><td> 0.8429834</td><td> 0.8972570</td><td> 1.0000000</td><td> 0.8645377</td><td>-0.6891955</td><td>-0.4163615</td></tr>\n",
       "\t<tr><th scope=row>masa</th><td>-0.8322442</td><td> 0.8975273</td><td> 0.9329944</td><td> 0.8645377</td><td> 1.0000000</td><td>-0.4168392</td><td>-0.3091199</td></tr>\n",
       "\t<tr><th scope=row>aceleracion</th><td> 0.4233285</td><td>-0.5046834</td><td>-0.5438005</td><td>-0.6891955</td><td>-0.4168392</td><td> 1.0000000</td><td> 0.2903161</td></tr>\n",
       "\t<tr><th scope=row>ano_modelo</th><td> 0.5805410</td><td>-0.3456474</td><td>-0.3698552</td><td>-0.4163615</td><td>-0.3091199</td><td> 0.2903161</td><td> 1.0000000</td></tr>\n",
       "</tbody>\n",
       "</table>\n"
      ],
      "text/latex": [
       "\\begin{tabular}{r|lllllll}\n",
       "  & mpg & nro\\_cilindros & desplazamiento & caballos\\_fuerza & masa & aceleracion & ano\\_modelo\\\\\n",
       "\\hline\n",
       "\tmpg &  1.0000000 & -0.7776175 & -0.8051269 & -0.7784268 & -0.8322442 &  0.4233285 &  0.5805410\\\\\n",
       "\tnro\\_cilindros & -0.7776175 &  1.0000000 &  0.9508233 &  0.8429834 &  0.8975273 & -0.5046834 & -0.3456474\\\\\n",
       "\tdesplazamiento & -0.8051269 &  0.9508233 &  1.0000000 &  0.8972570 &  0.9329944 & -0.5438005 & -0.3698552\\\\\n",
       "\tcaballos\\_fuerza & -0.7784268 &  0.8429834 &  0.8972570 &  1.0000000 &  0.8645377 & -0.6891955 & -0.4163615\\\\\n",
       "\tmasa & -0.8322442 &  0.8975273 &  0.9329944 &  0.8645377 &  1.0000000 & -0.4168392 & -0.3091199\\\\\n",
       "\taceleracion &  0.4233285 & -0.5046834 & -0.5438005 & -0.6891955 & -0.4168392 &  1.0000000 &  0.2903161\\\\\n",
       "\tano\\_modelo &  0.5805410 & -0.3456474 & -0.3698552 & -0.4163615 & -0.3091199 &  0.2903161 &  1.0000000\\\\\n",
       "\\end{tabular}\n"
      ],
      "text/markdown": [
       "\n",
       "| <!--/--> | mpg | nro_cilindros | desplazamiento | caballos_fuerza | masa | aceleracion | ano_modelo |\n",
       "|---|---|---|---|---|---|---|---|\n",
       "| mpg |  1.0000000 | -0.7776175 | -0.8051269 | -0.7784268 | -0.8322442 |  0.4233285 |  0.5805410 |\n",
       "| nro_cilindros | -0.7776175 |  1.0000000 |  0.9508233 |  0.8429834 |  0.8975273 | -0.5046834 | -0.3456474 |\n",
       "| desplazamiento | -0.8051269 |  0.9508233 |  1.0000000 |  0.8972570 |  0.9329944 | -0.5438005 | -0.3698552 |\n",
       "| caballos_fuerza | -0.7784268 |  0.8429834 |  0.8972570 |  1.0000000 |  0.8645377 | -0.6891955 | -0.4163615 |\n",
       "| masa | -0.8322442 |  0.8975273 |  0.9329944 |  0.8645377 |  1.0000000 | -0.4168392 | -0.3091199 |\n",
       "| aceleracion |  0.4233285 | -0.5046834 | -0.5438005 | -0.6891955 | -0.4168392 |  1.0000000 |  0.2903161 |\n",
       "| ano_modelo |  0.5805410 | -0.3456474 | -0.3698552 | -0.4163615 | -0.3091199 |  0.2903161 |  1.0000000 |\n",
       "\n"
      ],
      "text/plain": [
       "                mpg        nro_cilindros desplazamiento caballos_fuerza\n",
       "mpg              1.0000000 -0.7776175    -0.8051269     -0.7784268     \n",
       "nro_cilindros   -0.7776175  1.0000000     0.9508233      0.8429834     \n",
       "desplazamiento  -0.8051269  0.9508233     1.0000000      0.8972570     \n",
       "caballos_fuerza -0.7784268  0.8429834     0.8972570      1.0000000     \n",
       "masa            -0.8322442  0.8975273     0.9329944      0.8645377     \n",
       "aceleracion      0.4233285 -0.5046834    -0.5438005     -0.6891955     \n",
       "ano_modelo       0.5805410 -0.3456474    -0.3698552     -0.4163615     \n",
       "                masa       aceleracion ano_modelo\n",
       "mpg             -0.8322442  0.4233285   0.5805410\n",
       "nro_cilindros    0.8975273 -0.5046834  -0.3456474\n",
       "desplazamiento   0.9329944 -0.5438005  -0.3698552\n",
       "caballos_fuerza  0.8645377 -0.6891955  -0.4163615\n",
       "masa             1.0000000 -0.4168392  -0.3091199\n",
       "aceleracion     -0.4168392  1.0000000   0.2903161\n",
       "ano_modelo      -0.3091199  0.2903161   1.0000000"
      ]
     },
     "metadata": {},
     "output_type": "display_data"
    }
   ],
   "source": [
    "# Usaremos el argumento \"use\" con el valor \"complete.obs\" para ignorar los NA (valores ausentes)\n",
    "cor(df_mpg[, 2:8], use = \"complete.obs\")"
   ]
  },
  {
   "cell_type": "markdown",
   "metadata": {},
   "source": [
    "Trabajaremos con las variables ```masa``` y ```caballos_fuerza```: su *scatter plot* nos da indicios de una fuerte correlación lineal directa, lo cual queda demostrado por su correlación lineal: $0,87$ aproximadamente."
   ]
  },
  {
   "cell_type": "code",
   "execution_count": 53,
   "metadata": {},
   "outputs": [
    {
     "data": {
      "image/png": "[encoded data removed]",
      "text/plain": [
       "plot without title"
      ]
     },
     "metadata": {},
     "output_type": "display_data"
    }
   ],
   "source": [
    "plot(df_mpg$masa, df_mpg$caballos_fuerza)"
   ]
  },
  {
   "cell_type": "markdown",
   "metadata": {},
   "source": [
    "Consideraremos la variables ```masa``` como nuestra variable independiente y ```caballos_fuerza``` como la variables dependiente. Es decir, intentaremos prededir los caballos de fuerza de un auto coconiendo su masa. Estudiaremos la relación lineal entre las dos variables. Tal como se ha mencionado, esto se hace a través de ajustar una recta a los puntos. ¿Qué recta? La **recta de mejor ajuste**:\n",
    "\n",
    "> La recta de mejor ajuste es una recta que está más cercana a los puntos de datos que cualquier otra posible recta (de acuerdo con una medida estadística estándar de cercanía) (Bennet, 2011).\n",
    "\n",
    "Para trazar la recta y **estudiar la relación lineal entre dos variables**, construiremos la **ecuación de regresión**, la cual **expresa la relación lineal entre dos variables**. Se define como:\n",
    "\n",
    "$$\\hat Y = a + bX$$\n",
    "\n",
    "En algunos libros la encontrarás expresa como:\n",
    "\n",
    "$$\\hat Y = \\beta_{1} + \\beta_{2}X$$\n",
    "\n",
    "¿Te parece familiar la ecuación? Es la ecuación de la recta. Sus términos corresponden a:\n",
    "\n",
    "* $\\hat Y$: Es el valor de la estimación de la variable $Y$ (dependiente), dado un valor de la variable $X$ (independiente).\n",
    "* $a$: Es el coeficiente de intercepción. Es el valor estimado de $Y$ cuadno $X$ es igual a $0$. Es decir, es el punto en donde la recta de regresión intercepta al eje $Y$ (ordenadas).\n",
    "* $b$: Corresponde a la pendiente de la recta. Se interpreta como el cambio promedio en la variable $Y$ por cada cambio de una unidad de la variable $X$ (ya sea aumentándola o reduciéndola). En otras palabras, es **la magnitud del efecto que la varibale independiente o explicativa $X$ tiene sobre la variable dependiente o explicada $Y$**. Es por esto que al análisis de regresión también se le puede definir como el estudio de la relación entre dos variables.\n",
    "\n",
    "Entonces, busquemos la recta de mejor ajuste a nuestros datos. Por ejemplo, podemos trazar las rectas como se muestra a continuación, haciendo uso de la función ```par()```, ```plot()``` y ```lines()```:"
   ]
  },
  {
   "cell_type": "code",
   "execution_count": 54,
   "metadata": {},
   "outputs": [
    {
     "data": {
      "image/png": "[encoded data removed]",
      "text/plain": [
       "plot without title"
      ]
     },
     "metadata": {},
     "output_type": "display_data"
    }
   ],
   "source": [
    "par(mfrow = c(1, 2))\n",
    "plot(df_mpg$masa, df_mpg$caballos_fuerza)\n",
    "lines(c(5000, 1500), c(210, 50))\n",
    "plot(df_mpg$masa, df_mpg$caballos_fuerza)\n",
    "lines(c(5000, 1500), c(175, 20))"
   ]
  },
  {
   "cell_type": "markdown",
   "metadata": {},
   "source": [
    "De todas las rectas que podemos dibujar ¿Cómo saber cuál es la de mejor ajuste? Es acá donde entra en juego lo que mencionamos más arriba: usar una medida estadística de cercanía o distancia. Exiten varios métodos. El más usado es **la suma de los cuadrados de las distancias verticales entre los valores reales de la variable $Y$ y los valores pronósticados (a través de la ecuación de regresión) de Y**. Es decir, **la distancia entre cada punto que vemos en el gráfico de dispersión y la recta de regresión**. Esta medida, la expresamos matemáticamente de la siguiente forma:\n",
    "\n",
    "$$\\sum_{i=1}^n{(Y-\\hat Y)^2}$$\n",
    "\n",
    "Las distancias al cuadrado entre la recta y los puntos son las que debemos minimizar. Es de decir, es un problema de optimización. Es a esto a lo que se refiere el **método o principio de mínimos cuadrados**. Una vez realizadas las derivadas parciales y resolver el problema, llegamos a que los coeficientes de la recta de regresión corresponden a:\n",
    "\n",
    "$$b = \\frac{cov(X, Y)}{var(X)}$$\n",
    "<br/>\n",
    "$$a = \\bar Y - b\\bar X$$\n",
    "\n",
    "Con estos coeficientes, podemos encontrar la recta que mejor se ajusta a los valores de nuestas dos variables: ```masa```y ```caballos_fuerza```. Empezaremos por calcular la covarianza entre ambas variables y la varianza de la variable $X$ (la columna ```masa```):"
   ]
  },
  {
   "cell_type": "code",
   "execution_count": 55,
   "metadata": {},
   "outputs": [],
   "source": [
    "covarianza = cov(df_mpg$masa, df_mpg$caballos_fuerza, use = \"complete.obs\")\n",
    "var_x = var(df_mpg$masa)"
   ]
  },
  {
   "cell_type": "code",
   "execution_count": 56,
   "metadata": {},
   "outputs": [
    {
     "name": "stdout",
     "output_type": "stream",
     "text": [
      "[1] \"La covarianza es \" \"28265.620230701\"  \n"
     ]
    }
   ],
   "source": [
    "print(c(\"La covarianza es \", covarianza))"
   ]
  },
  {
   "cell_type": "code",
   "execution_count": 57,
   "metadata": {},
   "outputs": [
    {
     "name": "stdout",
     "output_type": "stream",
     "text": [
      "[1] \"La varianza de la variable X (masa) es: \"\n",
      "[2] \"721484.709007516\"                        \n"
     ]
    }
   ],
   "source": [
    "print(c(\"La varianza de la variable X (masa) es: \", var_x))"
   ]
  },
  {
   "cell_type": "markdown",
   "metadata": {},
   "source": [
    "Ahora ya podemos calcular $b$, la pendiente de la recta de regresión:"
   ]
  },
  {
   "cell_type": "code",
   "execution_count": 58,
   "metadata": {},
   "outputs": [
    {
     "data": {
      "text/html": [
       "0.0391770191077002"
      ],
      "text/latex": [
       "0.0391770191077002"
      ],
      "text/markdown": [
       "0.0391770191077002"
      ],
      "text/plain": [
       "[1] 0.03917702"
      ]
     },
     "metadata": {},
     "output_type": "display_data"
    }
   ],
   "source": [
    "b = covarianza / var_x\n",
    "b"
   ]
  },
  {
   "cell_type": "markdown",
   "metadata": {},
   "source": [
    "Sólo nos falta determinar $a$, el coeficiente de intercepción de la recta de regresión:"
   ]
  },
  {
   "cell_type": "code",
   "execution_count": 59,
   "metadata": {},
   "outputs": [
    {
     "name": "stdout",
     "output_type": "stream",
     "text": [
      "[1] \"La media de la variable X es: \" \"2977.58418367347\"              \n",
      "[1] \"La media de la variable Y es: \" \"104.469387755102\"              \n"
     ]
    }
   ],
   "source": [
    "media_x = mean(df_mpg$masa)\n",
    "media_y = mean(df_mpg$caballos_fuerza, na.rm = TRUE)\n",
    "print(c(\"La media de la variable X es: \", media_x))\n",
    "print(c(\"La media de la variable Y es: \", media_y))"
   ]
  },
  {
   "cell_type": "code",
   "execution_count": 60,
   "metadata": {},
   "outputs": [
    {
     "name": "stdout",
     "output_type": "stream",
     "text": [
      "[1] \"El coeficiente a es igual a: \" \"-12.1834847034594\"            \n"
     ]
    }
   ],
   "source": [
    "a = media_y - media_x * b\n",
    "print(c(\"El coeficiente a es igual a: \", a))"
   ]
  },
  {
   "cell_type": "markdown",
   "metadata": {},
   "source": [
    "Por lo tanto, la recta de regresión que hemos determinado se expresa como:\n",
    "\n",
    "$$\\hat Y = -12,1835 + 0,0392X$$\n",
    "\n",
    "**Esta es la ecuación de la recta que minima la diferencia de la distancia entre la recta misma y los puntos de datos al cuadrado**. \n",
    "\n",
    "***Nota***: A la ecuación de regresión lineal también se le suele denominar \"modelo de regresión lineal\", ya que estamos modelando la relación entre dos (o más) variables. Si quieres tener una visión general sobre lo que es un modelo, puedes ver el siguiente vídeo: https://www.youtube.com/watch?v=Sb8XVheowVQ\n",
    "\n",
    "Interpretemos los coficientes:\n",
    "\n",
    "* $b$: Su valor es de $0,0392$ aproximadamente. Es el efecto de la masa del automóvil sobre su potencia. Es decir, por cada una unidad que aumente la masa del automóvil, los caballos de fuerza aumentarán en 0,0394 unidades. \n",
    "* $a$: Su valor es de $-12,1835$ aproximadamente. La recta intercepta al eje $Y$ en el punto $-12,6079$. ¿Cómo se interpreta? Son los caballos de fuerza de un auto cuando su masa es igual a $0$ (es decir, es el valor predecido para la variable $Y$ sin considerar el efecto de la variable $X$).\n",
    "\n",
    "Ahora, grafiquemos la recta de regresión con la ecuación que calculamos. Para ello, primero trazarmeos el gráfico de dispersión para nuestras dos variables con la función ```plot()``` y luego la recta de regresión haciendo uso de la función ```abline()``` con la cual podemos trazar líneas rectas. El argumento ```a``` de la función es el coeficiente de intercepción y el argumento ```b``` es la pendiente de la recta. Es decir, los valores que hemos calculado más arriba."
   ]
  },
  {
   "cell_type": "code",
   "execution_count": 61,
   "metadata": {},
   "outputs": [
    {
     "data": {
      "image/png": "[encoded data removed]",
      "text/plain": [
       "plot without title"
      ]
     },
     "metadata": {},
     "output_type": "display_data"
    }
   ],
   "source": [
    "plot(df_mpg$masa, df_mpg$caballos_fuerza)\n",
    "abline(a = a, b = b)"
   ]
  },
  {
   "cell_type": "markdown",
   "metadata": {},
   "source": [
    "¿Podemos comprobar estos valores? Sí. Para ello, usaremos la función ```lm()``` de R, la cual efectúa la regresión lineal por mínimos cuadrados. A esta función debemos pasarle primero la variable dependiente ($Y$), seguido de una virgulilla (la \"tilde\" de la letra ñ) y la variable independiente ($X$):"
   ]
  },
  {
   "cell_type": "code",
   "execution_count": 62,
   "metadata": {},
   "outputs": [],
   "source": [
    "regresion = lm(df_mpg$caballos_fuerza ~ df_mpg$masa)"
   ]
  },
  {
   "cell_type": "code",
   "execution_count": 63,
   "metadata": {},
   "outputs": [
    {
     "data": {
      "text/plain": [
       "\n",
       "Call:\n",
       "lm(formula = df_mpg$caballos_fuerza ~ df_mpg$masa)\n",
       "\n",
       "Residuals:\n",
       "    Min      1Q  Median      3Q     Max \n",
       "-50.272 -12.285  -0.557   9.063 116.283 \n",
       "\n",
       "Coefficients:\n",
       "              Estimate Std. Error t value Pr(>|t|)    \n",
       "(Intercept) -12.183485   3.570431  -3.412 0.000712 ***\n",
       "df_mpg$masa   0.039177   0.001153  33.972  < 2e-16 ***\n",
       "---\n",
       "Signif. codes:  0 '***' 0.001 '**' 0.01 '*' 0.05 '.' 0.1 ' ' 1\n",
       "\n",
       "Residual standard error: 19.37 on 390 degrees of freedom\n",
       "Multiple R-squared:  0.7474,\tAdjusted R-squared:  0.7468 \n",
       "F-statistic:  1154 on 1 and 390 DF,  p-value: < 2.2e-16\n"
      ]
     },
     "metadata": {},
     "output_type": "display_data"
    }
   ],
   "source": [
    "# La función summary muestra resultados detallados del modelo que hemos ajustado\n",
    "# Este informe te será muy útil en el curso de econometría\n",
    "summary(regresion)"
   ]
  },
  {
   "cell_type": "code",
   "execution_count": 64,
   "metadata": {},
   "outputs": [
    {
     "data": {
      "text/html": [
       "<dl class=dl-horizontal>\n",
       "\t<dt>(Intercept)</dt>\n",
       "\t\t<dd>-12.1834847034594</dd>\n",
       "\t<dt>df_mpg$masa</dt>\n",
       "\t\t<dd>0.0391770191077002</dd>\n",
       "</dl>\n"
      ],
      "text/latex": [
       "\\begin{description*}\n",
       "\\item[(Intercept)] -12.1834847034594\n",
       "\\item[df\\textbackslash{}\\_mpg\\textbackslash{}\\$masa] 0.0391770191077002\n",
       "\\end{description*}\n"
      ],
      "text/markdown": [
       "(Intercept)\n",
       ":   -12.1834847034594df_mpg$masa\n",
       ":   0.0391770191077002\n",
       "\n"
      ],
      "text/plain": [
       " (Intercept)  df_mpg$masa \n",
       "-12.18348470   0.03917702 "
      ]
     },
     "metadata": {},
     "output_type": "display_data"
    }
   ],
   "source": [
    "# La función coefficients regresa una lista de los parámetros o coeficientes de la recta de regresión\n",
    "coefficients(regresion)"
   ]
  },
  {
   "cell_type": "markdown",
   "metadata": {},
   "source": [
    "Por último, realicemos algunas predicciones haciendo uso de la ecuación de regresión (lo cual es otra de sus principales utilidades).\n",
    "\n",
    "¿Qué potencia tendrá, en promedio, un auto cuya masa es igual a $2.000$?"
   ]
  },
  {
   "cell_type": "code",
   "execution_count": 65,
   "metadata": {},
   "outputs": [
    {
     "data": {
      "text/html": [
       "66.170553511941"
      ],
      "text/latex": [
       "66.170553511941"
      ],
      "text/markdown": [
       "66.170553511941"
      ],
      "text/plain": [
       "[1] 66.17055"
      ]
     },
     "metadata": {},
     "output_type": "display_data"
    }
   ],
   "source": [
    "x = 2000\n",
    "prediccion = a + b * x\n",
    "prediccion"
   ]
  },
  {
   "cell_type": "markdown",
   "metadata": {},
   "source": [
    "¿Qué potencia tendrá, en promedio, un auto cuya masa igual a $4.000$?"
   ]
  },
  {
   "cell_type": "code",
   "execution_count": 66,
   "metadata": {},
   "outputs": [
    {
     "data": {
      "text/html": [
       "144.524591727341"
      ],
      "text/latex": [
       "144.524591727341"
      ],
      "text/markdown": [
       "144.524591727341"
      ],
      "text/plain": [
       "[1] 144.5246"
      ]
     },
     "metadata": {},
     "output_type": "display_data"
    }
   ],
   "source": [
    "x = 4000\n",
    "prediccion = a + b * x\n",
    "prediccion"
   ]
  },
  {
   "cell_type": "code",
   "execution_count": null,
   "metadata": {},
   "outputs": [],
   "source": []
  }
 ],
 "metadata": {
  "kernelspec": {
   "display_name": "R",
   "language": "R",
   "name": "ir"
  },
  "language_info": {
   "codemirror_mode": "r",
   "file_extension": ".r",
   "mimetype": "text/x-r-source",
   "name": "R",
   "pygments_lexer": "r",
   "version": "3.6.1"
  }
 },
 "nbformat": 4,
 "nbformat_minor": 4
}
