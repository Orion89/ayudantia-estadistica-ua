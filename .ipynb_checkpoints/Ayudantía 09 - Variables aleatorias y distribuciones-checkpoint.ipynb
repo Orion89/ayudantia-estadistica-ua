{
 "cells": [
  {
   "cell_type": "markdown",
   "metadata": {},
   "source": [
    "Ayudantía Estadística I - Primavera 2020 <img src=\"img/logo_ua.png\" width=\"20%\" align=\"right\" />\n",
    "<br />\n",
    "<br />\n",
    "<br />\n",
    "<br />\n",
    "<br />\n",
    "\n",
    "# Variable aleatoria\n",
    "<br/>\n",
    "\n",
    "En las ayudantías anteriores, vimos los conceptos de experimento, espacio muestral y eventos, definiéndolos de la siguiente forma:\n",
    "<br/>\n",
    "<img src=\"img/exp_s_eventos.PNG\" width=\"80%\"/>\n",
    "<br/>\n",
    "\n",
    "Como vemos, un experimento es cualquier proceso que genera resultados, los cuales están sujetos al azar. Imaginemos que tenemos un set de cartas inglesas y sacamos la primera del mazo: el color y el número asociado a la carta que extraigamos será algo que es alatorio (el resultado es incierto). Otro ejemplo clásico es el de lanzar una moneda al aire y ver cuál cara queda volteada hacia arriba o el lanzar un dado y ver que número de puntos queda en la cara superior una vez que termine de rodar. Sin embargo, el objetivo de realizar un experimento no es sólo \"ver qué salió\", sino que anotar o registrar los resultados. Para esto último, necesitamos alguna manera de \"codificar\" esos resultados. Acá es en donde entra en juego una **variable aleatoria**:\n",
    "\n",
    "> Una variable aleatoria es una función que asocia un número real con cada elemento del espacio muestral.\n",
    "\n",
    "Dicho de otro modo, una variable aleatoria representa el conjunto de valores que pueden observarse en un experimento, y como los resultados de un experimento están sujetos al azar, sus valores asociados también lo estarán. Sobre estos valores, es posible asignar medidas de probabilidad, es decir, **a cada uno de los posibles resultados de un experimento le podemos atribuir una posibilidad de ocurrir**.\n",
    "\n",
    "Por ejemplo: \n",
    "\n",
    "* En el experimento de lanzar un dado una cierta cantidad de veces, podemos registrar el número de puntos que aparecen en su cara superior al terminar de rodar. Los posibles valores pueden ser 1, 2, 3, 4, 5 o 6. Es decir, la variable aleatoria asociada a los resultados de este experimento puede tomar los valores 1, 2, 3, 4, 5 o 6.\n",
    "* Nos puede interar registrar el número de personas en la cola para entrar a cierto local cada hora, para poder tener alguna idea de la concurrencia. Los posibles valores asociados a los resultados de este experimento pueden ser 1, 2, 3, 4, 5, 6, 7, 8, ..., $n$. \n",
    "\n",
    "Como ejemplo, podemos hacer una simple simulación de lanzar un dado y anotar el número de puntos en su cara superior en R con la función ```sample()```:"
   ]
  },
  {
   "cell_type": "code",
   "execution_count": 24,
   "metadata": {
    "scrolled": true
   },
   "outputs": [
    {
     "data": {
      "text/html": [
       "2"
      ],
      "text/latex": [
       "2"
      ],
      "text/markdown": [
       "2"
      ],
      "text/plain": [
       "[1] 2"
      ]
     },
     "metadata": {},
     "output_type": "display_data"
    }
   ],
   "source": [
    "dado <- c(1, 2, 3, 4, 5, 6)\n",
    "sample(dado, 1)"
   ]
  },
  {
   "cell_type": "markdown",
   "metadata": {},
   "source": [
    "Por otra parte, hay experimentos en que los posibles resultados no son numéricos, es decir, son categóricos o cualitativos. Por ejemplo, podemos encuestar a los alumnos de de la carrerar de Ingeniera Comercial y preguntarles sin son fumadores o no. ¿Cómo podemos representar numéricamente los resultados? Haremos uso de las **variables aleatorios ficticias**. Podemos representar con un 1 a los alumnos que fuman y un 0 a los que no. Es decir, los posibles valores numéricos para esta variable aletoria son $1$ y $0$. Nuestra variable aleatoria queda como:\n",
    "\n",
    "$$f(x)= \\left\\{ \\begin{array}{lcc}\n",
    "             1, & \\text{si  es fumador} \\\\\n",
    "             0, & \\text{si no es fumador} \\\\\n",
    "             \\end{array}\n",
    "   \\right.$$\n",
    "\n",
    "Entonces, vamos a uno de los patios y empezamos a encuestar a $n$ alumnos. Nuestros resultados, anotados en una tabla, podrían lucir de la siguiente manera:\n",
    "\n",
    "<table>\n",
    "    <tr><th>Alumno</th><th>Fumador</th></tr>\n",
    "    <tr style=\"text-align: center\"><td>Alumno 1</td><td>1</td></tr>\n",
    "    <tr style=\"text-align: center;\"><td>Alumno 2</td><td>0</td></tr>\n",
    "    <tr style=\"text-align: center;\"><td>Alumno 3</td><td>0</td></tr>\n",
    "    <tr style=\"text-align: center;\"><td>Alumno 4</td><td>1</td></tr>\n",
    "    <tr style=\"text-align: center;\"><td>Alumno 5</td><td>0</td></tr>\n",
    "    <tr style=\"text-align: center;\"><td>Alumno n</td><td>...</td></tr>\n",
    "</table>\n",
    "\n",
    "Las variables aleatorias se suelen representar con una letra mayúscula, por ejemplo $X$, y los posibles valores que puede tomar la variable aleatoria en cuestión se los simboliza con la misma letra, pero minúscula: $x$.\n",
    "\n",
    "## Distribución de probabilidad\n",
    "\n",
    "Más arriba, se mencionó que que a cada posible resultado de un experimento se le puede asignar una probabilidad de ocurrencia. Es decir, podemos asignar probabilidades a los valores de una variable aleatoria. Por ejemplo, veamos de nuevo el caso de lanzar un dado justo al aire y anotar el número de puntos que salga en su cara superior. Los valores posibles de esta variable aleatoria, que representaremos como $X$, serán 1, 2, 3, 4, 5 y 6. ¿Qué probabilidades tiene cada uno de estos posibles valores? Como se trata de un dado justo, la probabilidad de que quede mirando hacia arriba cada cara del dado al terminar de rodar es de $1/6$. Por lo tanto, asociaremos una probabilidad de $1/6$ a cada posible valor de nuestra variable aleatoria. A esto último se le denomina **distribución de probabilidad de una variable aleatoria**:\n",
    "\n",
    "> Una distribución de probabilidad de una variable aleatoria es una función que asigna o asocia probabilidades a los posibles valores que puede tomar la variable.\n",
    "\n",
    "Entonces, la **distribución de probabilidad** para esta variable aleatoria $X$ es:\n",
    "\n",
    "<table>\n",
    "    <tr style=\"text-align: center;\"><th>Número de puntos</th><th>P(X=x)</th></tr>\n",
    "    <tr style=\"text-align: center;\"><td>1</td><td>1/6</td></tr>\n",
    "    <tr style=\"text-align: center;\"><td>2</td><td>1/6</td></tr>\n",
    "    <tr style=\"text-align: center;\"><td>3</td><td>1/6</td></tr>\n",
    "    <tr style=\"text-align: center;\"><td>4</td><td>1/6</td></tr>\n",
    "    <tr style=\"text-align: center;\"><td>5</td><td>1/6</td></tr>\n",
    "    <tr style=\"text-align: center;\"><td>6</td><td>1/6</td></tr>\n",
    "</table>\n",
    "\n",
    "## Distribuciones de probabilidad discretas y continuas\n",
    "\n",
    "En ayudantías pasadas vimos los coceptos de **variables aleatorias discretas** y **variables aleatorias continuas**. En el experimento de lanzar un dado y anotar el número de puntos, podemos contar cuántas veces nos sale un $2$ o un $6$. Podemos contar el número de fumadores en nuestro ejemplo de encuestar a alumnos de Ingeniería Comercial. En otros experimentos, no podemos contar, sino que tenemos que medir. Por mencionar un ejemplo, si nos interesa saber la temperatura de las personas que desean entrar a un supermercado, la medimos con un termómetro. \n",
    "\n",
    "* **Variables aleatorias discretas**: si el espacio muestral sólo puede tomar un núero finito o numerable de valores (posibilidades). Resultan del **conteo**.\n",
    "* **Variables aleatorias continuas**: cuando los posible resultados del espacio muestral pueden tomar infinitos valores dentro de un intervalo. Resultan de la **medición**. \n",
    "\n",
    "Al asociar probabilidades a las variables aleatorias discretas y continuas, originan dos grandes grupos de distribuciones de probabilidad: las **distribuciones de probabilidad discretas** y **distribiciones de probabilidad continuas**.\n",
    "\n",
    "### Funciones de distribución discreta\n",
    "\n",
    " > La función de distribución de una variable discreta (o función de masa de probabilidad) es el conjunto de pares ordenados $(x, f(x))$, en donde $f(x)$ es igual a $P(X=x)$. Por ejemplo, $f(3)=P(X=3)$.\n",
    " \n",
    "Y se debe cumplir lo siguiente:\n",
    "\n",
    "1. $f(x)\\ge0,$\n",
    "2. $\\sum{f(x)}=1$\n",
    "3. $P(X = x) = f(x)$\n",
    " \n",
    "#### Ejercicio\n",
    "\n",
    "1. La distribución de probabilidades del número de clientes que se atienden en una botillería entre las 23:00 y 01:00 horas de un día sábado está dada por la siguiente tabla:\n",
    "\n",
    "<table>\n",
    "    <tr><th>Número de clientes</th><th>P(X=x)</th></tr>\n",
    "    <tr style=\"text-align: center\"><td>3</td><td>0,12</td></tr>\n",
    "    <tr style=\"text-align: center;\"><td>4</td><td>0,19</td></tr>\n",
    "    <tr style=\"text-align: center;\"><td>5</td><td>0,28</td></tr>\n",
    "    <tr style=\"text-align: center;\"><td>6</td><td>k</td></tr>\n",
    "    <tr style=\"text-align: center;\"><td>7</td><td>0,1</td></tr>\n",
    "    <tr style=\"text-align: center;\"><td>8</td><td>0,07</td></tr>\n",
    "</table>\n",
    "\n",
    "* a) ¿Cuál es el valor de *k*?"
   ]
  },
  {
   "cell_type": "code",
   "execution_count": 8,
   "metadata": {},
   "outputs": [
    {
     "data": {
      "text/html": [
       "0.24"
      ],
      "text/latex": [
       "0.24"
      ],
      "text/markdown": [
       "0.24"
      ],
      "text/plain": [
       "[1] 0.24"
      ]
     },
     "metadata": {},
     "output_type": "display_data"
    }
   ],
   "source": [
    "sum_probabilidades <- c(0.12, 0.19, 0.28, 0.1, 0.07)\n",
    "sum_probabilidades <- sum(sum_probabilidas)\n",
    "k <- 1 - sum_probabilidades\n",
    "k"
   ]
  },
  {
   "cell_type": "markdown",
   "metadata": {},
   "source": [
    "* b) ¿Cuál es la probabilidad de que lleguen 5 clientes a la botillería?"
   ]
  },
  {
   "cell_type": "code",
   "execution_count": 9,
   "metadata": {},
   "outputs": [
    {
     "data": {
      "text/html": [
       "0.28"
      ],
      "text/latex": [
       "0.28"
      ],
      "text/markdown": [
       "0.28"
      ],
      "text/plain": [
       "[1] 0.28"
      ]
     },
     "metadata": {},
     "output_type": "display_data"
    }
   ],
   "source": [
    "prob_5_clientes <- 0.28\n",
    "prob_5_clientes"
   ]
  },
  {
   "cell_type": "markdown",
   "metadata": {},
   "source": [
    "#### Función de distribución acumulativa\n",
    "\n",
    "> La función de distribución acumulativa $F(x)$ de una variable aleatoria discreta X con distribución de probabilidad $f(x)$ es:\n",
    "\n",
    "$$F(x)=P(X\\le{x})=\\sum_{t\\le{x}}{f(t)}, \\text{} \\infty\\lt{x}\\lt{\\infty}$$\n",
    "\n",
    "* e) ¿Cuál es la probabilidad de que se atiendan a lo más 7 clientes en la botillería?"
   ]
  },
  {
   "cell_type": "code",
   "execution_count": 34,
   "metadata": {},
   "outputs": [
    {
     "data": {
      "text/html": [
       "0.93"
      ],
      "text/latex": [
       "0.93"
      ],
      "text/markdown": [
       "0.93"
      ],
      "text/plain": [
       "[1] 0.93"
      ]
     },
     "metadata": {},
     "output_type": "display_data"
    }
   ],
   "source": [
    "# P(X <= 7) = (X=3) + P(X=4) + P(X=5) + P(X=6) + P(X=1) + P(X=7)\n",
    "prob_alomas_7 <- c(0.12, 0.19, 0.28, 0.24, 0.1)\n",
    "prob_alomas_7 <- sum(prob_alomas_7)\n",
    "prob_alomas_7"
   ]
  },
  {
   "cell_type": "markdown",
   "metadata": {},
   "source": [
    "* c) ¿Cuál es la probabilidad de que lleguen 6 o menos clientes?"
   ]
  },
  {
   "cell_type": "code",
   "execution_count": 37,
   "metadata": {},
   "outputs": [
    {
     "data": {
      "text/html": [
       "0.83"
      ],
      "text/latex": [
       "0.83"
      ],
      "text/markdown": [
       "0.83"
      ],
      "text/plain": [
       "[1] 0.83"
      ]
     },
     "metadata": {},
     "output_type": "display_data"
    }
   ],
   "source": [
    "# P(X <= 6)\n",
    "# P(X <= 6) = (X=3) + P(X=4) + P(X=5) + P(X=6)\n",
    "prob_6_menos <- c(0.12, 0.19, 0.28, 0.24)\n",
    "prob_6_menos <- sum(prob_6_menos)\n",
    "prob_6_menos"
   ]
  },
  {
   "cell_type": "markdown",
   "metadata": {},
   "source": [
    "* d) ¿Cuál es la probabilidad de que lleguen más de 4 clientes a la botillería?"
   ]
  },
  {
   "cell_type": "code",
   "execution_count": 38,
   "metadata": {},
   "outputs": [
    {
     "data": {
      "text/html": [
       "0.69"
      ],
      "text/latex": [
       "0.69"
      ],
      "text/markdown": [
       "0.69"
      ],
      "text/plain": [
       "[1] 0.69"
      ]
     },
     "metadata": {},
     "output_type": "display_data"
    }
   ],
   "source": [
    "# P(X > 4)\n",
    "# P(X > 4) = 1 - P(X=3) + + P(X=4)\n",
    "prob_4_mas <- sum(c(0.12, 0.19))\n",
    "prob_4_mas <- 1 - prob_4_mas\n",
    "prob_4_mas"
   ]
  },
  {
   "cell_type": "markdown",
   "metadata": {},
   "source": [
    "A continuación, se muestra una tabla en la cuál se enumeran una serie de frases con los cuales se puede hacer referencia a los casos en que se quiera determinar la probabilidad de que cierta variable aleatoria $X$ sea mayor ($\\gt$), mayor o igual ($\\ge$), menor ($\\lt$) y menor o igual ($le$) que cierto valor $x$:\n",
    "\n",
    "![](img/distr_acumulada.png)\n",
    "\n",
    "La elección de una distribución de probabilidad para representar un problema de interés práctico debe estar motivada por la comprensión del fenómeno en sí, como por la posible verificación de la distribución seleccionada a través de la evidencia empírica.\n",
    "\n",
    "## Valor esperado\n",
    "\n",
    "El **valor esperado** o **esperanza** de una variable aleatoria o de una distribución de probabilidad es un número que intenta capturar el centro de la distribución de esa variable aleatoria. Puede interpretarse como el promedio a largo plazo de muchas muestras independientes de la distribución dada. Se define como:\n",
    "\n",
    "> El valor esperado o esperanza o media de una variable aleatoria es la suma ponderada de todos y cada unos los posibles valores de la variable por su probabilidad correspondiente.\n",
    "\n",
    "Para las distribuciones de probabilidad discretas, el valor esperado es:\n",
    "\n",
    "$$\\mu=E(X)=\\sum{xf(x)}$$\n",
    "\n",
    "Y para las distribuciones continuas:\n",
    "\n",
    "$$\\mu=E(X)=\\int_{-\\infty}^{\\infty}  \\ xf(x) \\, dx$$\n",
    "\n",
    "#### Ejercicio:\n",
    "\n",
    "1. Determinar el valor esperado o esperanza del número de clientes del ejercicio del caso de la botillería."
   ]
  },
  {
   "cell_type": "code",
   "execution_count": 18,
   "metadata": {},
   "outputs": [
    {
     "data": {
      "text/html": [
       "5.22"
      ],
      "text/latex": [
       "5.22"
      ],
      "text/markdown": [
       "5.22"
      ],
      "text/plain": [
       "[1] 5.22"
      ]
     },
     "metadata": {},
     "output_type": "display_data"
    }
   ],
   "source": [
    "valor_esperado_botilleria <- 3*0.12 + 4*0.19 + 5*0.28 + 6*0.24 + 7*0.1 + 8*0.07\n",
    "valor_esperado_botilleria"
   ]
  },
  {
   "cell_type": "markdown",
   "metadata": {},
   "source": [
    "2. Simulación del valor esperado del experimento del lanzamiento de un dado y anotar el número de puntos que aparece en su cara superior al terminar de rodar."
   ]
  },
  {
   "cell_type": "code",
   "execution_count": 19,
   "metadata": {},
   "outputs": [
    {
     "data": {
      "text/html": [
       "3.5"
      ],
      "text/latex": [
       "3.5"
      ],
      "text/markdown": [
       "3.5"
      ],
      "text/plain": [
       "[1] 3.5"
      ]
     },
     "metadata": {},
     "output_type": "display_data"
    }
   ],
   "source": [
    "valor_esperado_dado <- c(1*(1/6) + 2*(1/6) + 3*(1/6) + 4*(1/6) + 5*(1/6) + 6*(1/6))\n",
    "valor_esperado_dado"
   ]
  },
  {
   "cell_type": "code",
   "execution_count": 12,
   "metadata": {},
   "outputs": [],
   "source": [
    "dado <- c(1, 2, 3, 4, 5, 6)\n",
    "valores_esperados <- c()"
   ]
  },
  {
   "cell_type": "code",
   "execution_count": 31,
   "metadata": {},
   "outputs": [],
   "source": [
    "# Diez repeticiones\n",
    "for (i in 1:10){\n",
    "    resultados <- replicate(i, sample(dado, 1))\n",
    "    valor_esperado <- mean(resultados)\n",
    "    valores_esperados <- c(valores_esperados, valor_esperado)\n",
    "} "
   ]
  },
  {
   "cell_type": "code",
   "execution_count": 6,
   "metadata": {
    "scrolled": false
   },
   "outputs": [
    {
     "data": {
      "image/png": "[encoded data removed]",
      "text/plain": [
       "plot without title"
      ]
     },
     "metadata": {},
     "output_type": "display_data"
    }
   ],
   "source": [
    "plot(valores_esperados, type=\"l\")"
   ]
  },
  {
   "cell_type": "code",
   "execution_count": 32,
   "metadata": {},
   "outputs": [
    {
     "data": {
      "image/png": "[encoded data removed]",
      "text/plain": [
       "plot without title"
      ]
     },
     "metadata": {},
     "output_type": "display_data"
    }
   ],
   "source": [
    "# 100 repeticiones\n",
    "for (i in 1:100){\n",
    "    resultados <- replicate(i, sample(dado, 1))\n",
    "    valor_esperado <- mean(resultados)\n",
    "    valores_esperados <- c(valores_esperados, valor_esperado)\n",
    "} \n",
    "\n",
    "plot(valores_esperados, type=\"l\")"
   ]
  },
  {
   "cell_type": "code",
   "execution_count": 25,
   "metadata": {
    "scrolled": true
   },
   "outputs": [],
   "source": [
    "repite_experimento <- function(n){\n",
    "    dado <- c(1, 2, 3, 4, 5, 6)\n",
    "    valores_esperados <- c()\n",
    "    for (i in 1:n){\n",
    "    resultados <- replicate(i, sample(dado, 1))\n",
    "    valor_esperado <- mean(resultados)\n",
    "    valores_esperados <- c(valores_esperados, valor_esperado)\n",
    "    } \n",
    "    valores_esperados\n",
    "}"
   ]
  },
  {
   "cell_type": "code",
   "execution_count": 30,
   "metadata": {},
   "outputs": [
    {
     "data": {
      "image/png": "[encoded data removed]",
      "text/plain": [
       "plot without title"
      ]
     },
     "metadata": {},
     "output_type": "display_data"
    }
   ],
   "source": [
    "par(mfrow = c(1, 3))\n",
    "plot(repite_experimento(50), type=\"l\", xlim = c(1, 50), ylim = c(1, 6))\n",
    "plot(repite_experimento(100), type=\"l\", xlim = c(1, 100), ylim = c(1, 6))\n",
    "plot(repite_experimento(1000), type=\"l\", xlim = c(1, 1000), ylim = c(1, 6))"
   ]
  },
  {
   "cell_type": "markdown",
   "metadata": {},
   "source": [
    "## Algunos tipos de distribuciones de probabilidad discretas\n",
    "\n",
    "En algunos experimentos, la probabilidad de sus resultados puede modelarse según una determinada distribución de probabilidad de tipo discreto. Según Walpole (2012), muchas veces, los resultados que se generan mediante diferentes experimentos tienen el mismo tipo general de comportamiento. Por lo tanto, las variables aleatorias discretas asociadas con estos experimentos se pueden describir con la misma distribución de probabilidad y, en consecuencia, es posible representarlas usando una sola fórmula.\n",
    "\n",
    "Se necesitan sólo unas cuantas distribuciones de probabilidad importantes para describir muchas de las variables aleatorias discretas que se encuentran en la práctica.\n",
    "\n",
    "### Distribución binomial\n",
    "\n",
    "En muchas ocasiones, un experimento consta de pruebas repetidas, cada una con dos resultados posibles que se pueden denominar éxito o fracaso. El ejemplo anterior en el que se encuestaba a estudiantes de Ingeniería Comercial para averiguar si eran fumadores o no, es un caso de estos: Si es fumador, es un \"éxito\" (ya que es la característica que buscamos) y si no, es un fracaso. Otro ejemplo clásico, es el de seleccionar artículos de una línea de ensamblaje, y observar si el artículo elegido es defectuoso o no. Nos interesan los artículos defectuosos para detectar cualquier posible falla. Entonces, si se encuentre un producto defectuosa, es un \"éxito\". Podemos elegir definir cualquiera de los resultados como éxito.\n",
    "\n",
    "Consideremos un experimento consistente en $n$ repeticiones y en condiciones idénticas. El modelo **binomial**, supone la repetición de un número fijo de veces de un experimento Bernoulli. Permite calcular la probabilidad de tener $x$ éxitos, cuando se realizan $n$ ensayos.\n",
    "\n",
    "#### Función de masa de probabilidad\n",
    "\n",
    "Recordemos que la función de distribución de una variable aleatoria discreta viene dada por $f(x)=P(X=x)$. En nuestro caso, $f(x)$ representa la probabilidad de tener exactamente $x$ éxitos en $n$ repeticiones del experimento, donde las repeticiones son independientes. La fórmula o función general es: \n",
    "\n",
    "$$f(x)=\\binom{n}{x}p^xq^{n-x}$$ \n",
    "\n",
    "donde: \n",
    "$$\\binom{n}{x}=\\frac{n!}{x!(n-x)!}$$\n",
    "\n",
    "es el llamado coeficiente binomial.\n",
    "\n",
    "#### Función de distribución acumulativa\n",
    "\n",
    "Recordemos que la función de distribución acumulativa de una variable aleatoria viene dada por $F(x)=P(X\\le{x})$. En nuestro caso, $F(x)$ representa la probabilidad de tener $x$ éxitos o menos en $n$ repeticiones del experimento, donde las repeticiones son independientes. La fórmula es la siguiente: \n",
    "<br>\n",
    "$$F(x)=\\sum_{k=0}^x\\binom{n}{k}p^kq^{n-k}.$$\n",
    "\n",
    "En **R**, tenemos las siguientes funciones para trabajar con la distribución binomial: \n",
    "\n",
    " * ```dbinom(x, size, prob)```: para calcular la función de masa de probabilidad de una distribución binomial, $P(X = x)$.\n",
    " * ```pbinom(x, size, prob)```: para determinar la probabilidad acumulada de una distribución binomial, $P(X \\le{x})$.\n",
    " * ```qbinom(x, size, prob)```: para calcular cuantiles de una distribución binomial.\n",
    " \n",
    "#### Valor esperado y varianza para la distribución binomial\n",
    " \n",
    "La esperanza de una variable binomial siempre es $𝑛𝑝$ y su varianza es $𝑛𝑝𝑞$.\n",
    " \n",
    "#### Ejercicios\n",
    " \n",
    "1. Un emprendedor dedicado a la comercialización de productos tecnológicos, ha determinado que la probabilidad de que un artículo, en un embarque de productos, sea defectuoso es 0,02. En un cargamento de 100 artículos que ha recibido reciéntemente, determina:\n",
    "\n",
    "* a) La probabilidad de que encuentre 4 artículos defectuosos:"
   ]
  },
  {
   "cell_type": "code",
   "execution_count": 1,
   "metadata": {},
   "outputs": [
    {
     "data": {
      "text/html": [
       "0.0902079912322045"
      ],
      "text/latex": [
       "0.0902079912322045"
      ],
      "text/markdown": [
       "0.0902079912322045"
      ],
      "text/plain": [
       "[1] 0.09020799"
      ]
     },
     "metadata": {},
     "output_type": "display_data"
    }
   ],
   "source": [
    "# x: 4\n",
    "# n: 100\n",
    "# p: 0.02\n",
    "# dbinom(x, size, prob)\n",
    "dbinom(4, 100, 0.02)"
   ]
  },
  {
   "cell_type": "markdown",
   "metadata": {},
   "source": [
    "* b) La probabilidad de que encuentre 5 o menos artículos defectuosos."
   ]
  },
  {
   "cell_type": "code",
   "execution_count": 2,
   "metadata": {},
   "outputs": [
    {
     "data": {
      "text/html": [
       "0.984516359358221"
      ],
      "text/latex": [
       "0.984516359358221"
      ],
      "text/markdown": [
       "0.984516359358221"
      ],
      "text/plain": [
       "[1] 0.9845164"
      ]
     },
     "metadata": {},
     "output_type": "display_data"
    }
   ],
   "source": [
    "# P(X<=5)\n",
    "# x: 5\n",
    "# n: 100\n",
    "# p: 0.02\n",
    "# pbinom(x, size, prob)\n",
    "pbinom(5, 100, 0.02)"
   ]
  },
  {
   "cell_type": "markdown",
   "metadata": {},
   "source": [
    "* c) La probabilidad de que encuentre más de 3 artículos defectuosos."
   ]
  },
  {
   "cell_type": "code",
   "execution_count": 33,
   "metadata": {},
   "outputs": [
    {
     "data": {
      "text/html": [
       "0.141038436601705"
      ],
      "text/latex": [
       "0.141038436601705"
      ],
      "text/markdown": [
       "0.141038436601705"
      ],
      "text/plain": [
       "[1] 0.1410384"
      ]
     },
     "metadata": {},
     "output_type": "display_data"
    }
   ],
   "source": [
    "# p(X>3)\n",
    "# La función de distribución acumulada nos entrega el valor de P(X<=3)\n",
    "# p(X>3) = 1 - P(X=0) + P(X=1) + P(X=2) + P(X=3) = 1 - (PX<=3)\n",
    "1 - pbinom(3, 100, 0.02)"
   ]
  },
  {
   "cell_type": "markdown",
   "metadata": {},
   "source": [
    "En **Excel** debes usar la fórmula ```=DISTR.BINOM.N(número_éxitos, ensayos, probabilidad, acumulado)```\n",
    "\n",
    "2. En una línea de ensamblaje, la probabilidad de tener una unidad defectuosa es de 0,05. Si el conjunto de unidades terminadas constituye un conjunto de ensayos independientes, determina:\n",
    "\n",
    "* a) La probabilidad de que entre diez unidades, dos se encuentren defectuosas."
   ]
  },
  {
   "cell_type": "code",
   "execution_count": null,
   "metadata": {},
   "outputs": [],
   "source": []
  },
  {
   "cell_type": "markdown",
   "metadata": {},
   "source": [
    "* b) La probabilidad de que a lo sumo dos unidades se encuentren defectuosas."
   ]
  },
  {
   "cell_type": "code",
   "execution_count": null,
   "metadata": {},
   "outputs": [],
   "source": []
  },
  {
   "cell_type": "markdown",
   "metadata": {},
   "source": [
    "* c) El valor esperado y la varianza de la distribución."
   ]
  },
  {
   "cell_type": "code",
   "execution_count": null,
   "metadata": {},
   "outputs": [],
   "source": []
  }
 ],
 "metadata": {
  "kernelspec": {
   "display_name": "R",
   "language": "R",
   "name": "ir"
  },
  "language_info": {
   "codemirror_mode": "r",
   "file_extension": ".r",
   "mimetype": "text/x-r-source",
   "name": "R",
   "pygments_lexer": "r",
   "version": "3.6.1"
  }
 },
 "nbformat": 4,
 "nbformat_minor": 4
}
