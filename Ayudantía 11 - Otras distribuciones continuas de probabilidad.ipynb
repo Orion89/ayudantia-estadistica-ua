{
 "cells": [
  {
   "cell_type": "markdown",
   "metadata": {},
   "source": [
    "Ayudantía Estadística I - Primavera 2020 <img src=\"img/logo_ua.png\" width=\"20%\" align=\"right\" />\n",
    "<br>\n",
    "<br>\n",
    "<br>\n",
    "<br>\n",
    "<br>\n",
    "\n",
    "# Otras distribuciones continuas de probabilidad\n",
    "\n",
    "Recordemos lo que es una distribución de probabilidad:\n",
    "\n",
    "> Una distribución de probabilidad de una variable aleatoria es una función que asigna o asocia probabilidades a los posibles valores que puede tomar la variable.\n",
    "\n",
    "¿Y qué es una variable aleatorias? Recordemos que:\n",
    "\n",
    "> Una variable aleatoria es una función que asocia un número real con cada elemento del espacio muestral de un experimento. Dicho de otro modo, una variable aleatoria representa el conjunto de valores que pueden observarse en un experimento, y como los resultados de un experimento están sujetos al azar, sus valores asociados también lo estarán.\n",
    "\n",
    "Recordemos además que las **variables aleatorias continuas** resultan de la medición y pueden tomar infinitos valores dentro de un intervalo (por ejemplo, la estatura, la distancia recorrida, la masa de algún objeto, el tiempo, la temperatura, etc. Cuando trabajamos con distribuciones de probabilidad continua, nos interesará la probabilidad de que la variable aleatorio en cuestión tome valores dentro de cierto rango. Es decir, cuando tratamos con variables aleatorias continuas, nos interesaremos en un intervalo en vez de a un valor puntual de nuestra variable aleatoria.\n",
    "\n",
    "## Distribución chi cuadrada\n",
    "\n",
    "También llamada distribución \"Ji\" cuadrado o distribución de Pearson. Se define como la suma de $n$ variables normales estándar independientes al cuadrado:\n",
    "\n",
    "$$\\chi^{2}=Z_{1}^{2}+Z_{2}^{2}+Z_{3}^{2}+...+Z_{n-1}^{2}+Z_{n}^{2}$$\n",
    "\n",
    "En donde $n$, la cantidad de sumandos, se denomina *grados de libertad*. Este es el único parámetro de esta distribución.\n",
    "\n",
    "Debido a que las variables que se suman están al cuadrado, la suma siembre será $\\ge 0$.\n",
    "\n",
    "La **función de densidad de probabilidad** de la distribución chi cuadrado es:\n",
    "\n",
    "$$f(x; \\nu) = \\frac{1}{2^{\\frac{\\nu}{2}}\\Gamma (\\frac{\\nu}{2})}x^{\\frac{\\nu}{2-1}}e^{\\frac{-x}{2}}$$\n",
    "\n",
    "En donde $\\Gamma$ es la función gamma y $\\nu$, como ya vimos, son los grados de libertad de la distribución. Según la bibliografía que consultes, al función de densidad especificada más arriba puede variar.\n",
    "\n",
    "Recordemos que para determinar la probabilidad de, por ejemplo, $P(a \\le \\chi_{\\nu}^{2} \\le b)$ tenemos que aplicar la función de distribición acumulativa, es decir, integrar la función de densidad:\n",
    "\n",
    "$$\\int_{a}^{b} f(x; \\nu) dx$$\n",
    "\n",
    "La distribución chi cuadrada es la distribución muestral de $S^2$, las varianzas muestrales. Es decir, que si se extraen todas las muestras posibles de una población normal y a cada muestra se le calcula su varianza, se obtendrá la distribución muestral de varianzas la cual sigue una distribución chi cuadrada. También es muy importante en el análisis de datos categóricos.\n",
    "\n",
    "Veamos el efecto de los grados de libertad en la forma de la distribución chi cuadrado:"
   ]
  },
  {
   "cell_type": "code",
   "execution_count": null,
   "metadata": {
    "scrolled": false
   },
   "outputs": [],
   "source": [
    "curve(dchisq(x = x, df = 5), xlim = c(0, 40), ylab = \"\")\n",
    "curve(dchisq(x = x, df = 10), xlim = c(0, 40), add = TRUE, col='red')\n",
    "curve(dchisq(x = x, df = 15), xlim = c(0, 40), add = TRUE, col='orange')\n",
    "curve(dchisq(x = x, df = 25), xlim = c(0, 40), add = TRUE, col='blue')\n",
    "\n",
    "etiquetas <- c(\"df = 5\", \"df = 10\", \"df = 15\", \"df = 25\")\n",
    "\n",
    "legend(\"topright\",          # Posición\n",
    "       legend = etiquetas,   \n",
    "       lty = c(1, 1, 1, 1), # Líneas sólidas\n",
    "       bty = \"n\",           # Sin bordes\n",
    "       col = c(\"black\", \"red\", \"orange\", \"blue\"),\n",
    "       inset = .05,         # Espaciado del margen\n",
    "       y.intersp = .75)     # Interlineado"
   ]
  },
  {
   "cell_type": "markdown",
   "metadata": {},
   "source": [
    "### Ejercicios\n",
    "\n",
    "1. Tenemos una variable aleatoria $X$ que se distribuye como una chi cuadrado, con $15$ grados de libertad ¿Cuál es la probabilidad de que tome un valor menor a $20.6$?\n",
    "\n",
    "Primero, determinaremos la probabilidad usando la tabla correspondiente a la distribución chi cuadrado. Luego, usarmos las funciones de **R** asociadas.\n",
    "\n",
    "En la siguiente figura, podemos ver un extracto de una tabla chi cuadrado (hay gran variedad de tablas chi cuadrado, cada una con mayor o menor detalle en los valores, probabilidades y grados de libertad):\n",
    "\n",
    "<br>\n",
    "<img src=\"img/tabla_chi_cuadrada_1.png\" width=\"70%\"/>\n",
    "<br>\n",
    "\n",
    "En la primera columna de la tabla se nos indica los grados de libertad y en la primera fila, la probabilidad. Dentro de la tabla, encontraremos los valores de la distribución. Es muy importante notar que, en la mayoría de las tablas, **la probabilidad indicada en la primera fila de la tabla corresponde a la que queda a la derecha del valor buscado**. Es decir, nos indica $P(\\chi_{\\nu}^{2} >= x$)\n",
    "\n",
    "En el caso de este ejercicio, tenemos $15$ grados de libertad y el valor para el cual buscamos una probabilidad menor o igual es de 20,6. Entonces, ubicamos los grados de libertad en la primera columna y luego buscamos el valor mencionado en la fila que corresponde a esos grados de libertad (elipse verde), para finalmente subir por la columna que le corresponde al valor hasta la primera fila de la tabla, en donde encontraremos la probabilidad asociada (elipse azul):\n",
    "\n",
    "<br>\n",
    "<img src=\"img/tabla_chi_cuadrada_2.png\" width=\"70%\"/>\n",
    "<br>\n",
    "\n",
    "Por lo tanto, tenemos que $P(\\chi_{15}^{2} >= 20.6) = 0.15$ Sin embargo, buscamos la probabilidad que que la variable aleatoria tome un valor menor o igual a $20,6$. Ya sabemos que hacer:\n",
    "\n",
    "$$P(\\chi_{15}^{2} < 20.6) = 1 - P(\\chi_{15}^{2} >= 20.6) = 1 - 0.15 = 0.85$$\n",
    "\n",
    "Concluímos que la probabilidad que una variable aleatoria con distribución chi cuadrada y con $15$ grados de liberad tome un valor menor que $20,6$ es de $0,85$.\n",
    "\n",
    "Realicemos ahora el mismo ejercicio en R. \n",
    "\n",
    "En R, tenemos las siguientes funciones que nos servirán a la hora de trabajar con distribuciones chi cuadrada:\n",
    "\n",
    "* ```dchisq(x, df, ncp=0, log = F)```: Devuelve resultados de la función de densidad.\n",
    "* ```pchisq(q, df, ncp=0, lower.tail = T, log.p = F)```\t: Devuelve resultados de la función de distribución acumulada.\n",
    "* ```qchisq(p, df, ncp=0, lower.tail = T, log.p = F)```: Devuelve resultados de los cuantiles de la distribución chi cuadrado.\n",
    "* ```rchisq(n, df, ncp=0)```: Devuelve un vector de valores aleatorios con distribución chi cuadrado.\n",
    "\n",
    "Ya que lo que buscamos en este ejercicio es la probabilodad acumulada o, lo que es lo mismo, el resultado de la función de distribución acumulada, usaremos la función ```pchisq()```, a la cual le pasaremos como primer argumento el valor ```q``` y como segundo argumento los grados de libertad ```df```. Empero, acá es importante recordar que **la función ```pchisq()``` nos devolverá la probabilidad acumulada desde la izquieda (desde $0$)**, caso contrario a la probabilidad que nos entregó la tabla que usamos más arriba."
   ]
  },
  {
   "cell_type": "code",
   "execution_count": 5,
   "metadata": {},
   "outputs": [
    {
     "data": {
      "text/html": [
       "0.849896443627999"
      ],
      "text/latex": [
       "0.849896443627999"
      ],
      "text/markdown": [
       "0.849896443627999"
      ],
      "text/plain": [
       "[1] 0.8498964"
      ]
     },
     "metadata": {},
     "output_type": "display_data"
    }
   ],
   "source": [
    "pchisq(q = 20.6, df = 15)"
   ]
  },
  {
   "cell_type": "code",
   "execution_count": 6,
   "metadata": {},
   "outputs": [
    {
     "data": {
      "text/html": [
       "0.85"
      ],
      "text/latex": [
       "0.85"
      ],
      "text/markdown": [
       "0.85"
      ],
      "text/plain": [
       "[1] 0.85"
      ]
     },
     "metadata": {},
     "output_type": "display_data"
    }
   ],
   "source": [
    "round(pchisq(q = 20.6, df = 15), 2) # redondeamos a dos cifras decimales"
   ]
  },
  {
   "cell_type": "markdown",
   "metadata": {},
   "source": [
    "2. Una variable aleatoria $X$ se distribuye como una chi cuadrado, con $21$ grados de libertad ¿Cuál es la probabilidad de que la variable tome un valor entre $11,59$ y $20,34$? Es decir, $P(11.59 \\le \\chi_{21}^2 \\le 20.34)=?$"
   ]
  },
  {
   "cell_type": "code",
   "execution_count": 7,
   "metadata": {},
   "outputs": [
    {
     "data": {
      "text/html": [
       "0.450204989654737"
      ],
      "text/latex": [
       "0.450204989654737"
      ],
      "text/markdown": [
       "0.450204989654737"
      ],
      "text/plain": [
       "[1] 0.450205"
      ]
     },
     "metadata": {},
     "output_type": "display_data"
    }
   ],
   "source": [
    "pchisq(q = 20.34, df = 21) - pchisq(q = 11.59, df = 21)"
   ]
  },
  {
   "cell_type": "code",
   "execution_count": 8,
   "metadata": {},
   "outputs": [
    {
     "data": {
      "text/html": [
       "0.45"
      ],
      "text/latex": [
       "0.45"
      ],
      "text/markdown": [
       "0.45"
      ],
      "text/plain": [
       "[1] 0.45"
      ]
     },
     "metadata": {},
     "output_type": "display_data"
    }
   ],
   "source": [
    "round(pchisq(q = 20.34, df = 21) - pchisq(q = 11.59, df = 21), 2)"
   ]
  },
  {
   "cell_type": "markdown",
   "metadata": {},
   "source": [
    "## Distribución F de Snedecor o F de Fisher\n",
    "\n",
    "La variable aleatoria F se define como el cociente de dos variables aleatorias chi cuadrado independientes, cada una dividida entre sus respectivos grados de libertad:\n",
    "\n",
    "$$F_{n_{1}, n_{2}}=\\frac{\\frac{\\chi_{n_1}^2}{n_1}}{\\frac{\\chi_{n_2}^2}{n_2}}$$\n",
    "\n",
    "Una distribución F de Fisher se dice que tiene $n_1$ grados de libertad del numerador y $n_2$ grados de libertad del denominador.\n",
    "\n",
    "Se utiliza para comparar las varianzas de dos poblaciones: comparar la precisión de un instrumento de medición respecto a la de otro, la estabilidad de un proceso de manufactura con la de otro, etc. Se usa también en el modelado de regresión lineal.\n",
    "\n",
    "En inferencia estadística (el curso que viene después de este), la distribución F se usa para comparar la variabilidad debida a diferentes fuentes.\n",
    "\n",
    "Si $S_{1}^2$ es la varianza de una muestra de tamaño $N_1$ extraída de una población normal con varianza igual a $\\sigma_{1}^2$ y $S_{2}^2$ es la varianza de una muestra de tamaño $N_2$ tomada de una población normal con varianza igual a $\\sigma_{2}^2$, se cumple que:\n",
    "\n",
    "$$\\frac{\\frac{S_{1}^2}{\\sigma_{1}^2}}{\\frac{S_{2}^2}{\\sigma_{2}^2}} \\sim F_{(N_{1}-1), (N_{2}-1)}$$\n",
    "\n",
    "Una variable aleatoria F es no negativa y tiene un sesgo hacia la derecha (positivo). La distribución F tiene una apariencia muy similar a la distribución chi cuadrada, la cual vimos anteriormente. Sin embargo, se encuentra centrada respecto en $1$, y los dos parámetros $\\nu_1$ y $\\nu_2$ proporcionan una flexibilidad adicional con respecto a la forma de la distribución.\n",
    "\n",
    "### Ejercicios\n",
    "\n",
    "1. Determinar el valor de F cuando el área a la derecha de dicho valor es de $0,25$, con grados de libertad del numerador igual a $4$ y grados de libertad del denominador igual a $9$.\n",
    "\n",
    "Primero, usaremos una tabla para resolver el ejercicio, luego usaremos las funciones de **R** correspondientes. Como en el caso de la distribución chi cuadrada, **existe gran variedad de tablas para la distribución F**. En particular, usaremos la tabla de la cual se presenta una captura en la siguiente figura:\n",
    "\n",
    "<br>\n",
    "<img src=\"img/tabla_f_1.png\" width=\"70%\"/>\n",
    "<br>\n",
    "\n",
    "En esta tabla, cada grado de libertad del numerador tiene su propia hoja (en particular, el documento *pdf* de esta tabla tiene 34 páginas), la primera columna tiene los valores de los grados de libertad del denominador, la primera fila muestra las **probabalidades acumuladas a la izquierda** (desde $o$)$ a partir de los valores de la distribución que están dentro de la tabla.\n",
    "\n",
    "El ejercicio nos indica que debemos haya el valor de la distribución cuya probabilidad acumulada hacia la derecha es de $0,25$. Sin embargo, tal como se mencionó más arriba, la tabla presenta las probabilidades (o áreas) a la izquierda del valor en cuestión. Por lo tanto, debemos obtener el complemento:\n",
    "\n",
    "$$P(F\\le x)= 1 - P(F\\gt x) = 1 - 0.25 = 0.75$$\n",
    "\n",
    "Por lo tanto, debemos buscar en la tabla el valor cuya probabilidad a su izquierda es de $0,75$, con $4$ grados de libertad del numerador y $9$ grados de libertad del denominador:\n",
    "\n",
    "<br>\n",
    "<img src=\"img/tabla_f_2.png\" width=\"70%\"/>\n",
    "<br>\n",
    "\n",
    "En amarillo se han destacado los valores correspondientes: en la primera columna, los grados de libertad del denominador ($9$); en la primera fila, el área a la izquieda del valor ($0.75$). Intersectamos esa fila y columna para ver que el valor que buscamos de la distribución es de $1,625$.\n",
    "\n",
    "Realizaremos ahora el mismo ejercicio en R. \n",
    "\n",
    "En R, tenemos las siguientes funciones que nos servirán a la hora de trabajar con la distribución F de Fisher:\n",
    "\n",
    "* ```df(x, df1, df2, ncp, log = F)```: Devuelve resultados de la función de densidad.\n",
    "* ```pf(q, df1, df2, ncp, lower.tail = T, log.p = F```\t: Devuelve resultados de la función de distribución acumulada.\n",
    "* ```qf(p, df1, df2, ncp, lower.tail = T, log.p = F)```: Devuelve resultados de los cuantiles de la distribución F.\n",
    "* ```rf(n, df1, df2, ncp)```: Devuelve un vector de valores aleatorios con distribución F.\n",
    "\n",
    "Tenemos los datos de la probabilidad y de los grados de libertad. Lo que buscamos es el valor de la variable aleatoria, por lo que usarmeos la función ```qf()``` a la cual le daremos los argumentos de la probabilidad (```p```), los grados de libertad del numerador (```df1```) y los grados de libertad del denominador (```df2```):"
   ]
  },
  {
   "cell_type": "code",
   "execution_count": 9,
   "metadata": {},
   "outputs": [
    {
     "data": {
      "text/html": [
       "1.62529779826289"
      ],
      "text/latex": [
       "1.62529779826289"
      ],
      "text/markdown": [
       "1.62529779826289"
      ],
      "text/plain": [
       "[1] 1.625298"
      ]
     },
     "metadata": {},
     "output_type": "display_data"
    }
   ],
   "source": [
    "# Por defecto, la probabilidad acumulada es a la izquierda del valor\n",
    "qf(p = 0.75, df1 = 4, df2 = 9)"
   ]
  },
  {
   "cell_type": "code",
   "execution_count": 10,
   "metadata": {},
   "outputs": [
    {
     "data": {
      "text/html": [
       "1.62529779826289"
      ],
      "text/latex": [
       "1.62529779826289"
      ],
      "text/markdown": [
       "1.62529779826289"
      ],
      "text/plain": [
       "[1] 1.625298"
      ]
     },
     "metadata": {},
     "output_type": "display_data"
    }
   ],
   "source": [
    "# Si queremos la probabilidad acumulada es a la derecha del valor\n",
    "# debemos usar el argumento lower.tail = FALSE y usar el área a la derecha, 0.25\n",
    "qf(p = 0.25, df1 = 4, df2 = 9, lower.tail = FALSE)"
   ]
  },
  {
   "cell_type": "markdown",
   "metadata": {},
   "source": [
    "## Distribución *t* de Student\n",
    "\n",
    "No queriendo adelantarme a la materia, acá sólo mencionaremos que si $x_1, x_2, x_3, ..., x_{n-1}, x_{n}$ es un muestreo aleatorio simple de una población con media igual a $\\mu_0$, entonces la variable:\n",
    "\n",
    "$$T=\\frac{\\overline{X}-\\mu_0}{S_X/\\sqrt{n}}$$\n",
    "\n",
    "Se distribuye como una $t$ de Student con $n-1$ grados de libertad.\n",
    "\n",
    "Esta distribución tiene las siguientes propiedades:\n",
    "\n",
    "1. Cada curva $t$ tiene forma de campana con centro en $0$.\n",
    "2. Cada curva $t$ tiene más dispersión que la curva normal estándar $X$.\n",
    "3. A medida que aumentan los grados de libertad de la distribución, la dispersión de la curva $t$ correspondiente disminuye.\n",
    "4. A medida que los grados de libertad tienen al infinito, la secuencia de curvas $t$ se aproxima cada vez más a la curva normal estándar.\n",
    "\n",
    "De las propiedades anteriores, se deduce que la apariencia general de la distribución $t$ es similar a la de la distribución normal estándar: ambas son simétricas y unimodales, y el valor máximo de la ordenada se alcanza en la media igual a $0$. Sin embargo, la distribución $t$ tiene colas más amplias que la normal estándar, lo cual señala que la probabilidad de las colas es mayor que en la distribución normal. A medida que el número de grados de libertad tiende a infinito, la forma límite de la distribución $t$ es la distribución normal estándar."
   ]
  },
  {
   "cell_type": "code",
   "execution_count": 11,
   "metadata": {},
   "outputs": [
    {
     "data": {
      "image/png": "[encoded data removed]",
      "text/plain": [
       "plot without title"
      ]
     },
     "metadata": {},
     "output_type": "display_data"
    }
   ],
   "source": [
    "# Cramos una secuencia de 100 números igualmente espaciados entre -4 and 4\n",
    "x <- seq(-4, 4, length=100)\n",
    "\n",
    "# Graficamos 3 funciones de densidad de distribuciones t de student a partir del vector x y con 3 distintos grados de libertad\n",
    "curve(dt(x = x, df = 4), xlim = c(-5, 5), ylab = \"\")\n",
    "curve(dt(x = x, df = 20), xlim = c(-5, 5), add = TRUE, col='green')\n",
    "curve(dt(x = x, df = 50), xlim = c(-5, 5), add = TRUE, col='blue')\n",
    "\n",
    "etiquetas <- c(\"df = 4\", \"df = 20\", \"df = 50\")\n",
    "\n",
    "legend(\"topright\",          # Posición\n",
    "       legend = etiquetas,   \n",
    "       lty = c(1, 1, 1), # Líneas sólidas\n",
    "       bty = \"n\",           # Sin bordes\n",
    "       col = c(\"black\", \"green\", \"blue\"),\n",
    "       inset = .05,         # Espaciado del margen\n",
    "       y.intersp = .75)     # Interlineado"
   ]
  },
  {
   "cell_type": "markdown",
   "metadata": {},
   "source": [
    "### Ejercicios\n",
    "\n",
    "1. Determinar el valor de $t$, con 14 grados de libertad que deja un área de 0.025 a su izquierda.\n",
    "\n",
    "Nuevamente, haremos uso de la tabla correspondiente para resolver el ejercicio. Luego usarmeos las funciones de R pertinentes.\n",
    "\n",
    "En la figura siguiente, vemos una tabla $t$. Nuevamente, existen varias versiones de la tabla de la distribución $t$. En el caso particular de la que usaremos, los valores de probabilidad corresponden a las áreas bajo la curva a la derecha del valor en cuestión, además de que sólo presente los valores $t$ positivos. Sin embargo, ya sabemos que la distribución $t$ está centrada en $0$ y es simétrica. Si buscamos valores a la izquierda del 0, serán negativos. En cambio, si buscamos valores a la derecha del $0$, serán positivos. De forma similar, su buscamos o usamos probabilidades acumuladas desde la izquierda que sean menores a $0,5$, los valores de $t$ serán negativos. Si la probabilidad es mayor a $0,5$ (acumulando desde la izquierda), entonces los valores de $t$ serán positivos.\n",
    "\n",
    "<br>\n",
    "<img src=\"img/tabla_t_1.png\" width=\"70%\"/>\n",
    "<br>\n",
    "\n",
    "En la primera columna de la tabla encontramos los valores de los grados de libertad. En la primera fila, las probabilidades (reiteramos, acumuladas hacia la derecha). Y dentro de la tabla, los valores de $t$. \n",
    "\n",
    "Tenemos el datos de los grados de libertad, 14. También, que la probabilidad a la izquierda del valor es de $0,025$. Como la distribución $t$ es simétrica, el valor de $t$ que deja a su izquierda un área bajo la curva igual a $0,025$ será análogo al valor de $t$ que deja a su derecha una probabilidad de $0,025$, sólo que será negativo. Entonces, dado que la tabla sólo muestra las áreas bajo la curva a la derecha de los valores, buscaremos el valor que deje a su derecha un área igual a $0,025$.\n",
    "\n",
    "Buscamos los grados de libertad en la primera columna y la probabilidad recién determinada en la primera fila. Intersectaremos la fila y columna correspondiente para obtener el valor de $t$:\n",
    "\n",
    "<br>\n",
    "<img src=\"img/tabla_t_2.png\" width=\"70%\"/>\n",
    "<br>\n",
    "\n",
    "Tenemos que el valor de $t$ es de $2,145$. Sin embargo, la probabilidad que se nos indica en el ejercicio es de $0.025$ acumulada desde $-\\inf$. Por lo tanto, al ser menor que $0,5$ (la mitad), el valor debe ser negativo. Por lo tanto, **el valor de $t$ con $14$ de libertad que deja a su izquierda un área bajo la curva igual a $0,025$ es $-2,145$**.\n",
    "\n",
    "Ahora pasamos a resolver el problema con R, en donde tenemos las siguientes funciones que nos serán de mucha utilidad:\n",
    "\n",
    "* ```dt(x, df, ncp, log = F)```: Devuelve resultados de la función de densidad.\n",
    "* ```pt(q, df, ncp, lower.tail = T, log.p = F)```\t: Devuelve resultados de la función de distribución acumulada.\n",
    "* ```qt(p, df, ncp, lower.tail = T, log.p = F)```: Devuelve resultados de los cuantiles de la t-Student.\n",
    "* ```rt(n, df, ncp))```: Devuelve un vector de valores aleatorios con distribución $t$ de Student.\n",
    "\n",
    "En el caso de este ejercicio, como debemos determinar el valor de la variable $t$, usaremos la función ```qt()```, a la cual pasaremos como argumentos la probabilidad ```p``` y los grados de libertad de la distribución ```df```. Ya que el valor del argumento de la función ```lower.tail``` esá, por defecto, fijado en ```TRUE```, la función considerará la probabilidad que le indicamos como el área a la izquierda del valor, es decir, acumulada desde la izquierda."
   ]
  },
  {
   "cell_type": "code",
   "execution_count": 12,
   "metadata": {},
   "outputs": [
    {
     "data": {
      "text/html": [
       "-2.1447866879178"
      ],
      "text/latex": [
       "-2.1447866879178"
      ],
      "text/markdown": [
       "-2.1447866879178"
      ],
      "text/plain": [
       "[1] -2.144787"
      ]
     },
     "metadata": {},
     "output_type": "display_data"
    }
   ],
   "source": [
    "qt(p = 0.025, df = 14)"
   ]
  },
  {
   "cell_type": "code",
   "execution_count": 14,
   "metadata": {},
   "outputs": [
    {
     "data": {
      "text/html": [
       "-2.145"
      ],
      "text/latex": [
       "-2.145"
      ],
      "text/markdown": [
       "-2.145"
      ],
      "text/plain": [
       "[1] -2.145"
      ]
     },
     "metadata": {},
     "output_type": "display_data"
    }
   ],
   "source": [
    "round(qt(p = 0.025, df = 14), 3)"
   ]
  },
  {
   "cell_type": "markdown",
   "metadata": {},
   "source": [
    "2. Un ingeniero afirma que el rendimiento promedio de la población de cierto proceso es 500 gramos por milímetro de materia prima. Para verificar esta afirmación, se toma una muestra de 25 lotes cada mes. Si el valor de t calculado cae entre $–t_{0.05}$ y $t_{0.05}$, se consiera correcta la afirmación. ¿Qué conclusión se obtiene de una muestra que tiene una media de 518 gramos por milímetro y una desviación estándar de 40 gramos? Suponiendo que la distribución de rendimientos es aproximadamente normal.\n",
    "\n",
    "$$T=\\frac{\\overline{X}-\\mu_0}{S_X/\\sqrt{n}}$$"
   ]
  },
  {
   "cell_type": "code",
   "execution_count": 15,
   "metadata": {},
   "outputs": [],
   "source": [
    "media_muestral <- 518\n",
    "media_poblacional <- 500\n",
    "desv_muestral <- 40\n",
    "n <- 25"
   ]
  },
  {
   "cell_type": "code",
   "execution_count": 16,
   "metadata": {},
   "outputs": [
    {
     "data": {
      "text/html": [
       "2.25"
      ],
      "text/latex": [
       "2.25"
      ],
      "text/markdown": [
       "2.25"
      ],
      "text/plain": [
       "[1] 2.25"
      ]
     },
     "metadata": {},
     "output_type": "display_data"
    }
   ],
   "source": [
    "t <- (media_muestral - media_poblacional) / (desv_muestral / (sqrt(n)))\n",
    "t"
   ]
  },
  {
   "cell_type": "code",
   "execution_count": 17,
   "metadata": {},
   "outputs": [
    {
     "data": {
      "text/html": [
       "-1.71088207990943"
      ],
      "text/latex": [
       "-1.71088207990943"
      ],
      "text/markdown": [
       "-1.71088207990943"
      ],
      "text/plain": [
       "[1] -1.710882"
      ]
     },
     "metadata": {},
     "output_type": "display_data"
    }
   ],
   "source": [
    "t_izq_005 <- qt(p = 0.05, df = n - 1)\n",
    "t_izq_005"
   ]
  },
  {
   "cell_type": "code",
   "execution_count": 18,
   "metadata": {},
   "outputs": [
    {
     "data": {
      "text/html": [
       "1.71088207990943"
      ],
      "text/latex": [
       "1.71088207990943"
      ],
      "text/markdown": [
       "1.71088207990943"
      ],
      "text/plain": [
       "[1] 1.710882"
      ]
     },
     "metadata": {},
     "output_type": "display_data"
    }
   ],
   "source": [
    "t_der_005 <- qt(p = 0.05, df = n - 1, lower.tail = FALSE)\n",
    "t_der_005"
   ]
  },
  {
   "cell_type": "code",
   "execution_count": 19,
   "metadata": {},
   "outputs": [
    {
     "data": {
      "text/html": [
       "1.71088207990943"
      ],
      "text/latex": [
       "1.71088207990943"
      ],
      "text/markdown": [
       "1.71088207990943"
      ],
      "text/plain": [
       "[1] 1.710882"
      ]
     },
     "metadata": {},
     "output_type": "display_data"
    }
   ],
   "source": [
    "t_der_005 <- qt(p = 1 - 0.05, df = n - 1)\n",
    "t_der_005"
   ]
  },
  {
   "cell_type": "code",
   "execution_count": null,
   "metadata": {},
   "outputs": [],
   "source": []
  }
 ],
 "metadata": {
  "kernelspec": {
   "display_name": "R",
   "language": "R",
   "name": "ir"
  },
  "language_info": {
   "codemirror_mode": "r",
   "file_extension": ".r",
   "mimetype": "text/x-r-source",
   "name": "R",
   "pygments_lexer": "r",
   "version": "3.6.1"
  }
 },
 "nbformat": 4,
 "nbformat_minor": 4
}
